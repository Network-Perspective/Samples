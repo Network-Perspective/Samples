{
 "cells": [
  {
   "cell_type": "markdown",
   "metadata": {},
   "source": [
    "### Basic configuration"
   ]
  },
  {
   "cell_type": "code",
   "execution_count": null,
   "metadata": {},
   "outputs": [],
   "source": [
    "api_host = \"https://staging.networkperspective.io\"\n",
    "network_id = \"ad8c3e20-5651-4e48-a17d-44fafd0262da\""
   ]
  },
  {
   "cell_type": "markdown",
   "metadata": {},
   "source": [
    "### Login\n",
    "\n",
    "Get user creadentials"
   ]
  },
  {
   "cell_type": "code",
   "execution_count": null,
   "metadata": {},
   "outputs": [],
   "source": [
    "import getpass\n",
    "\n",
    "# don't ask for username and password if they are already set\n",
    "if 'username' not in locals():    \n",
    "    username = input(\"Enter your username: \") \n",
    "    password = getpass.getpass('Enter your password: ')"
   ]
  },
  {
   "cell_type": "markdown",
   "metadata": {},
   "source": [
    "Acquire access token"
   ]
  },
  {
   "cell_type": "code",
   "execution_count": null,
   "metadata": {},
   "outputs": [],
   "source": [
    "from np_client import np_client\n",
    "\n",
    "configuration = np_client.Configuration(\n",
    "    host = api_host\n",
    ")\n",
    "\n",
    "with np_client.ApiClient(configuration) as api_client:\n",
    "    token_api = np_client.TokenApi(api_client)\n",
    "    try:    \n",
    "        token = token_api.token_get_token(\n",
    "            username=username,  \n",
    "            password=password, \n",
    "            grant_type=\"password\", \n",
    "            client_id=\"ApiClient\"\n",
    "        )\n",
    "    except Exception as e:\n",
    "        print(\"Exception when calling TokenApi->token_get_token: %s\\n\" % e)  \n",
    "        raise e\n",
    "\n",
    "# set the token in the configuration to use it in the next calls\n",
    "configuration.access_token = token.access_token\n",
    "\n",
    "# token should be valid for 1 hour\n",
    "print(\"Token expiration: \", token.expires)"
   ]
  },
  {
   "cell_type": "markdown",
   "metadata": {},
   "source": [
    "### Get available metrics and periods"
   ]
  },
  {
   "cell_type": "code",
   "execution_count": null,
   "metadata": {},
   "outputs": [],
   "source": [
    "with np_client.ApiClient(configuration) as api_client:    \n",
    "    report_api = np_client.ReportApi(api_client)\n",
    "    metrics_export_params_query = np_client.MetricsExportParamsQuery() \n",
    "    metrics_export_params_query.network_id = network_id\n",
    "    metrics_export_params_query.aggregate = np_client.AggregateEnum.MONTH\n",
    "    try:\n",
    "        # Export metric params\n",
    "        export_metric_params = report_api.report_export_metric_params(metrics_export_params_query=metrics_export_params_query)                \n",
    "    except Exception as e:\n",
    "        print(\"Exception when calling ReportApi->report_export_metric_params: %s\\n\" % e)\n",
    "        raise e\n",
    "\n",
    "print(\"periods\", export_metric_params.periods)\n",
    "print(\"metrics\", export_metric_params.metrics)"
   ]
  },
  {
   "cell_type": "code",
   "execution_count": null,
   "metadata": {},
   "outputs": [],
   "source": [
    "last_period = export_metric_params.periods[-1]\n",
    "all_metrics = export_metric_params.metrics"
   ]
  },
  {
   "cell_type": "markdown",
   "metadata": {},
   "source": [
    "### Export direct metric values\n",
    "These are metrics calculated for each team or employee group."
   ]
  },
  {
   "cell_type": "code",
   "execution_count": null,
   "metadata": {},
   "outputs": [],
   "source": [
    "with np_client.ApiClient(configuration) as api_client:    \n",
    "    report_api = np_client.ReportApi(api_client)\n",
    "\n",
    "    metrics_export_query = np_client.MetricsExportQuery()     \n",
    "    metrics_export_query.network_id = network_id\n",
    "    metrics_export_query.periods = [last_period]\n",
    "    metrics_export_query.metrics = all_metrics\n",
    "    \n",
    "    try:        \n",
    "        metrics = report_api.report_export_metric_values(metrics_export_query=metrics_export_query)        \n",
    "    except Exception as e:\n",
    "        print(\"Exception when calling ReportApi->report_export_metric_values: %s\\n\" % e)\n",
    "        raise e"
   ]
  },
  {
   "cell_type": "markdown",
   "metadata": {},
   "source": [
    "Convert to dataframe for easy export & analysis"
   ]
  },
  {
   "cell_type": "code",
   "execution_count": null,
   "metadata": {},
   "outputs": [],
   "source": [
    "import pandas as pd\n",
    "\n",
    "metrics_df = pd.DataFrame([m.to_dict() for m in metrics])\n",
    "display(metrics_df.head())"
   ]
  },
  {
   "cell_type": "markdown",
   "metadata": {},
   "source": [
    "### Read realted metrics\n",
    "These are cooperation paths between groups, read first 1000 values."
   ]
  },
  {
   "cell_type": "code",
   "execution_count": null,
   "metadata": {},
   "outputs": [],
   "source": [
    "with np_client.ApiClient(configuration) as api_client:    \n",
    "    report_api = np_client.ReportApi(api_client)\n",
    "\n",
    "    metric_related_export_query = np_client.MetricRelatedExportQuery()     \n",
    "    metric_related_export_query.network_id = network_id\n",
    "    metric_related_export_query.metric = \"CooperationPaths\"\n",
    "    metric_related_export_query.top = 1000\n",
    "    \n",
    "    try:        \n",
    "        related_metrics = report_api.report_export_metric_related_values(metric_related_export_query=metric_related_export_query)        \n",
    "    except Exception as e:\n",
    "        print(\"Exception when calling ReportApi->report_export_metric_related_values: %s\\n\" % e)\n",
    "        raise e"
   ]
  },
  {
   "cell_type": "markdown",
   "metadata": {},
   "source": [
    "Convert to dataframe"
   ]
  },
  {
   "cell_type": "code",
   "execution_count": null,
   "metadata": {},
   "outputs": [],
   "source": [
    "related_df = pd.DataFrame([m.to_dict() for m in related_metrics])\n",
    "display(related_df.head())"
   ]
  }
 ],
 "metadata": {
  "kernelspec": {
   "display_name": "Python 3",
   "language": "python",
   "name": "python3"
  },
  "language_info": {
   "codemirror_mode": {
    "name": "ipython",
    "version": 3
   },
   "file_extension": ".py",
   "mimetype": "text/x-python",
   "name": "python",
   "nbconvert_exporter": "python",
   "pygments_lexer": "ipython3",
   "version": "3.12.0"
  }
 },
 "nbformat": 4,
 "nbformat_minor": 2
}
