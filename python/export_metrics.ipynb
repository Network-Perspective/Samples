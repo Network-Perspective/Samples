{
 "cells": [
  {
   "cell_type": "markdown",
   "metadata": {},
   "source": [
    "### Basic configuration"
   ]
  },
  {
   "cell_type": "code",
   "execution_count": 10,
   "metadata": {},
   "outputs": [],
   "source": [
    "api_host = \"https://staging.networkperspective.io\"\n",
    "network_id = \"ad8c3e20-5651-4e48-a17d-44fafd0262da\""
   ]
  },
  {
   "cell_type": "markdown",
   "metadata": {},
   "source": [
    "### Login\n",
    "\n",
    "Get user creadentials"
   ]
  },
  {
   "cell_type": "code",
   "execution_count": 11,
   "metadata": {},
   "outputs": [],
   "source": [
    "import getpass\n",
    "\n",
    "# don't ask for username and password if they are already set\n",
    "if 'username' not in locals():    \n",
    "    username = input(\"Enter your username: \") \n",
    "    password = getpass.getpass('Enter your password: ')"
   ]
  },
  {
   "cell_type": "markdown",
   "metadata": {},
   "source": [
    "Acquire access token"
   ]
  },
  {
   "cell_type": "code",
   "execution_count": 12,
   "metadata": {},
   "outputs": [
    {
     "name": "stdout",
     "output_type": "stream",
     "text": [
      "Token expiration:  Wed, 13 Dec 2023 22:46:59 GMT\n"
     ]
    }
   ],
   "source": [
    "from np_client import np_client\n",
    "\n",
    "configuration = np_client.Configuration(\n",
    "    host = api_host\n",
    ")\n",
    "\n",
    "with np_client.ApiClient(configuration) as api_client:\n",
    "    token_api = np_client.TokenApi(api_client)\n",
    "    try:    \n",
    "        token = token_api.token_get_token(\n",
    "            username=username,  \n",
    "            password=password, \n",
    "            grant_type=\"password\", \n",
    "            client_id=\"ApiClient\"\n",
    "        )\n",
    "    except Exception as e:\n",
    "        print(\"Exception when calling TokenApi->token_get_token: %s\\n\" % e)  \n",
    "        raise e\n",
    "\n",
    "# set the token in the configuration to use it in the next calls\n",
    "configuration.access_token = token.access_token\n",
    "\n",
    "# token should be valid for 1 hour\n",
    "print(\"Token expiration: \", token.expires)"
   ]
  },
  {
   "cell_type": "markdown",
   "metadata": {},
   "source": [
    "### Get available metrics and periods"
   ]
  },
  {
   "cell_type": "code",
   "execution_count": 13,
   "metadata": {},
   "outputs": [
    {
     "name": "stdout",
     "output_type": "stream",
     "text": [
      "periods ['2021-12', '2021-04', '2021-09', '2021-07', '2021-03', '2021-11', '2021-08', '2021-01', '2021-02', '2021-05', '2021-06', '2021-10']\n",
      "metrics ['ManagerGuidanceMonthlyChats', 'WeeklyTeamMeetingSize', 'EmailsQueue', 'ManagerGuidanceDailyMeetings', 'MeetingDuration_below_30min', 'FocusedWorkStreakLength', 'ManagerGuidanceDailyOverall', 'MeetingsAfterHours', 'FocusedWorkDuration', 'MeetingDuration_over_4h', 'ManagerRoles', 'ModeOfWorkFocusedWork', 'ManagerGuidanceWeeklyOverall', 'MeetingDuration_2h_4h', 'ChannelsActiveBig', 'ManagerGuidanceDailyEmails', 'ModeOfWorkMultipleContextWork', 'ChatsDuration', 'DiversityOfConnections', 'Bottleneck', 'ModeOfWorkCollaboration', 'ManagerGuidanceWeeklyMeetings', 'TimeToPromotion', 'MeetingAttendees_9_18', 'ManagerGuidanceWeeklyEmails', 'Centrality', 'OneOnOneWeeklyDuration', 'FocusedWorkStreakCount', 'MaxNumberOfEmployees', 'MeetingsMultitasking', 'TimeOnMeetings', 'InternalTeamMeetings', 'ManagerGuidanceMonthlyOverall', 'ManagerGuidanceMonthlyMeetings', 'MeetingAttendees_3_4', 'WeeklyMeetingSize', 'ChatsInterruptions', 'TimeOnEmails', 'MeetingAttendees_5_8', 'DirectorRoles', 'DailyTeamMeetingMembersPerWeek', 'InternalTeamMeetingDuration', 'MeetingsConflicting', 'ManagerGuidanceMonthlyEmails', 'NewbieRoles', 'ManagerSupport', 'MultipleContextWork', 'InternalTeamMeetingMembers', 'WeeklyTeamMeetingDuration', 'CollaborationCrossTeam', 'OneOnOneWeeklyFrequency', 'MeetingDuration_1h_2h', 'MeetingsLongAndLarge', 'DailyTeamMeetingFrequency', 'OneOnOneWeeklyTeamInvolved', 'ManagerGuidanceWeeklyChats', 'DailyTeamMeetingSize', 'ChannelsSubscribedBig', 'OneOnOneMonthlyFrequency', 'CollaborationIntraTeam', 'InternalTeamMeetingSize', 'NetworkSize', 'WorkdayLength', 'ManagerGuidanceDailyChats', 'IcRoles', 'ChannelsActiveSmall', 'IndividualWork', 'OneOnOneMonthlyTeamInvolved', 'InternalTeamMeetingFrequency', 'WeeklyTeamMeetingFrequency', 'MessagesSentAfterHours', 'OneOnOneMonthlyDuration', 'CollaborationExternal', 'MeetingAttendees_2', 'ChannelsSubscribedSmall', 'DailyTeamMeetingDuration', 'MeetingAttendees_over_18', 'LiftingInteractions', 'MeetingDuration_30min_1h', 'CollaborationTime']\n"
     ]
    }
   ],
   "source": [
    "with np_client.ApiClient(configuration) as api_client:    \n",
    "    report_api = np_client.ReportApi(api_client)\n",
    "    metrics_export_params_query = np_client.MetricsExportParamsQuery() \n",
    "    metrics_export_params_query.network_id = network_id\n",
    "    metrics_export_params_query.aggregate = np_client.AggregateEnum.MONTH\n",
    "    try:\n",
    "        # Export metric params\n",
    "        export_metric_params = report_api.report_export_metric_params(metrics_export_params_query=metrics_export_params_query)                \n",
    "    except Exception as e:\n",
    "        print(\"Exception when calling ReportApi->report_export_metric_params: %s\\n\" % e)\n",
    "        raise e\n",
    "\n",
    "print(\"periods\", export_metric_params.periods)\n",
    "print(\"metrics\", export_metric_params.metrics)"
   ]
  },
  {
   "cell_type": "code",
   "execution_count": 14,
   "metadata": {},
   "outputs": [],
   "source": [
    "last_period = export_metric_params.periods[-1]\n",
    "all_metrics = export_metric_params.metrics"
   ]
  },
  {
   "cell_type": "markdown",
   "metadata": {},
   "source": [
    "### Export direct metric values\n",
    "These are metrics calculated for each team or employee group."
   ]
  },
  {
   "cell_type": "code",
   "execution_count": 15,
   "metadata": {},
   "outputs": [],
   "source": [
    "with np_client.ApiClient(configuration) as api_client:    \n",
    "    report_api = np_client.ReportApi(api_client)\n",
    "\n",
    "    metrics_export_query = np_client.MetricsExportQuery()     \n",
    "    metrics_export_query.network_id = network_id\n",
    "    metrics_export_query.periods = [last_period]\n",
    "    metrics_export_query.metrics = all_metrics\n",
    "    \n",
    "    try:        \n",
    "        metrics = report_api.report_export_metric_values(metrics_export_query=metrics_export_query)        \n",
    "    except Exception as e:\n",
    "        print(\"Exception when calling ReportApi->report_export_metric_values: %s\\n\" % e)\n",
    "        raise e"
   ]
  },
  {
   "cell_type": "markdown",
   "metadata": {},
   "source": [
    "Convert to dataframe for easy export & analysis"
   ]
  },
  {
   "cell_type": "code",
   "execution_count": 16,
   "metadata": {},
   "outputs": [
    {
     "data": {
      "text/html": [
       "<div>\n",
       "<style scoped>\n",
       "    .dataframe tbody tr th:only-of-type {\n",
       "        vertical-align: middle;\n",
       "    }\n",
       "\n",
       "    .dataframe tbody tr th {\n",
       "        vertical-align: top;\n",
       "    }\n",
       "\n",
       "    .dataframe thead th {\n",
       "        text-align: right;\n",
       "    }\n",
       "</style>\n",
       "<table border=\"1\" class=\"dataframe\">\n",
       "  <thead>\n",
       "    <tr style=\"text-align: right;\">\n",
       "      <th></th>\n",
       "      <th>metric</th>\n",
       "      <th>period</th>\n",
       "      <th>value</th>\n",
       "      <th>groupId</th>\n",
       "      <th>groupName</th>\n",
       "      <th>category</th>\n",
       "      <th>clientGroupId</th>\n",
       "    </tr>\n",
       "  </thead>\n",
       "  <tbody>\n",
       "    <tr>\n",
       "      <th>0</th>\n",
       "      <td>Bottleneck</td>\n",
       "      <td>2021-10</td>\n",
       "      <td>51.1287</td>\n",
       "      <td>0bf22a30-3da7-4125-a43c-0d0222b4a961</td>\n",
       "      <td>Account Executives (AEs) 1 (Business development)</td>\n",
       "      <td>Team</td>\n",
       "      <td>None</td>\n",
       "    </tr>\n",
       "    <tr>\n",
       "      <th>1</th>\n",
       "      <td>Bottleneck</td>\n",
       "      <td>2021-10</td>\n",
       "      <td>51.3596</td>\n",
       "      <td>d63114a2-ba64-4253-9993-31171e110483</td>\n",
       "      <td>Account Executives (AEs) 2 (Business development)</td>\n",
       "      <td>Team</td>\n",
       "      <td>None</td>\n",
       "    </tr>\n",
       "    <tr>\n",
       "      <th>2</th>\n",
       "      <td>Bottleneck</td>\n",
       "      <td>2021-10</td>\n",
       "      <td>20.2302</td>\n",
       "      <td>f7cad5c6-e7ca-46ac-a852-7b3419ff7d7e</td>\n",
       "      <td>Accounting (Finance)</td>\n",
       "      <td>Team</td>\n",
       "      <td>None</td>\n",
       "    </tr>\n",
       "    <tr>\n",
       "      <th>3</th>\n",
       "      <td>Bottleneck</td>\n",
       "      <td>2021-10</td>\n",
       "      <td>20.3067</td>\n",
       "      <td>2d13b097-e6b6-4db1-95ec-2a5fed496b0e</td>\n",
       "      <td>Administration (Operations / back office)</td>\n",
       "      <td>Team</td>\n",
       "      <td>None</td>\n",
       "    </tr>\n",
       "    <tr>\n",
       "      <th>4</th>\n",
       "      <td>Bottleneck</td>\n",
       "      <td>2021-10</td>\n",
       "      <td>58.9221</td>\n",
       "      <td>9b72dd3c-0270-4576-8059-d27f3c87b5b1</td>\n",
       "      <td>Agile coaches (People &amp; org dev)</td>\n",
       "      <td>Team</td>\n",
       "      <td>None</td>\n",
       "    </tr>\n",
       "  </tbody>\n",
       "</table>\n",
       "</div>"
      ],
      "text/plain": [
       "       metric   period    value                               groupId  \\\n",
       "0  Bottleneck  2021-10  51.1287  0bf22a30-3da7-4125-a43c-0d0222b4a961   \n",
       "1  Bottleneck  2021-10  51.3596  d63114a2-ba64-4253-9993-31171e110483   \n",
       "2  Bottleneck  2021-10  20.2302  f7cad5c6-e7ca-46ac-a852-7b3419ff7d7e   \n",
       "3  Bottleneck  2021-10  20.3067  2d13b097-e6b6-4db1-95ec-2a5fed496b0e   \n",
       "4  Bottleneck  2021-10  58.9221  9b72dd3c-0270-4576-8059-d27f3c87b5b1   \n",
       "\n",
       "                                           groupName category clientGroupId  \n",
       "0  Account Executives (AEs) 1 (Business development)     Team          None  \n",
       "1  Account Executives (AEs) 2 (Business development)     Team          None  \n",
       "2                               Accounting (Finance)     Team          None  \n",
       "3          Administration (Operations / back office)     Team          None  \n",
       "4                   Agile coaches (People & org dev)     Team          None  "
      ]
     },
     "metadata": {},
     "output_type": "display_data"
    }
   ],
   "source": [
    "import pandas as pd\n",
    "\n",
    "metrics_df = pd.DataFrame([m.to_dict() for m in metrics])\n",
    "display(metrics_df.head())"
   ]
  },
  {
   "cell_type": "markdown",
   "metadata": {},
   "source": [
    "### Read realted metrics\n",
    "These are cooperation paths between groups, read first 1000 values."
   ]
  },
  {
   "cell_type": "code",
   "execution_count": 17,
   "metadata": {},
   "outputs": [],
   "source": [
    "with np_client.ApiClient(configuration) as api_client:    \n",
    "    report_api = np_client.ReportApi(api_client)\n",
    "\n",
    "    metric_related_export_query = np_client.MetricRelatedExportQuery()     \n",
    "    metric_related_export_query.network_id = network_id\n",
    "    metric_related_export_query.metric = \"CooperationPaths\"\n",
    "    metric_related_export_query.top = 1000\n",
    "    \n",
    "    try:        \n",
    "        related_metrics = report_api.report_export_metric_related_values(metric_related_export_query=metric_related_export_query)        \n",
    "    except Exception as e:\n",
    "        print(\"Exception when calling ReportApi->report_export_metric_related_values: %s\\n\" % e)\n",
    "        raise e"
   ]
  },
  {
   "cell_type": "markdown",
   "metadata": {},
   "source": [
    "Convert to dataframe"
   ]
  },
  {
   "cell_type": "code",
   "execution_count": 18,
   "metadata": {},
   "outputs": [
    {
     "data": {
      "text/html": [
       "<div>\n",
       "<style scoped>\n",
       "    .dataframe tbody tr th:only-of-type {\n",
       "        vertical-align: middle;\n",
       "    }\n",
       "\n",
       "    .dataframe tbody tr th {\n",
       "        vertical-align: top;\n",
       "    }\n",
       "\n",
       "    .dataframe thead th {\n",
       "        text-align: right;\n",
       "    }\n",
       "</style>\n",
       "<table border=\"1\" class=\"dataframe\">\n",
       "  <thead>\n",
       "    <tr style=\"text-align: right;\">\n",
       "      <th></th>\n",
       "      <th>period</th>\n",
       "      <th>value</th>\n",
       "      <th>groupId</th>\n",
       "      <th>groupName</th>\n",
       "      <th>relatedGroupId</th>\n",
       "      <th>relatedClientGroupId</th>\n",
       "      <th>relatedGroupName</th>\n",
       "      <th>category</th>\n",
       "      <th>clientGroupId</th>\n",
       "    </tr>\n",
       "  </thead>\n",
       "  <tbody>\n",
       "    <tr>\n",
       "      <th>0</th>\n",
       "      <td>2021-10</td>\n",
       "      <td>483228.0</td>\n",
       "      <td>942240ca-9073-4df2-9bff-f9b346bf1432</td>\n",
       "      <td>ic</td>\n",
       "      <td>254cd9b4-37eb-4928-8214-ce87a4ec12bf</td>\n",
       "      <td>Persona</td>\n",
       "      <td>manager</td>\n",
       "      <td>Persona</td>\n",
       "      <td>None</td>\n",
       "    </tr>\n",
       "    <tr>\n",
       "      <th>1</th>\n",
       "      <td>2021-10</td>\n",
       "      <td>374502.0</td>\n",
       "      <td>254cd9b4-37eb-4928-8214-ce87a4ec12bf</td>\n",
       "      <td>manager</td>\n",
       "      <td>942240ca-9073-4df2-9bff-f9b346bf1432</td>\n",
       "      <td>Persona</td>\n",
       "      <td>ic</td>\n",
       "      <td>Persona</td>\n",
       "      <td>None</td>\n",
       "    </tr>\n",
       "    <tr>\n",
       "      <th>2</th>\n",
       "      <td>2021-10</td>\n",
       "      <td>362421.0</td>\n",
       "      <td>942240ca-9073-4df2-9bff-f9b346bf1432</td>\n",
       "      <td>ic</td>\n",
       "      <td>942240ca-9073-4df2-9bff-f9b346bf1432</td>\n",
       "      <td>Persona</td>\n",
       "      <td>ic</td>\n",
       "      <td>Persona</td>\n",
       "      <td>None</td>\n",
       "    </tr>\n",
       "    <tr>\n",
       "      <th>3</th>\n",
       "      <td>2021-10</td>\n",
       "      <td>353449.0</td>\n",
       "      <td>98ea8c92-3ae9-4130-aafa-0315064d8166</td>\n",
       "      <td>Project teams</td>\n",
       "      <td>98ea8c92-3ae9-4130-aafa-0315064d8166</td>\n",
       "      <td>Division</td>\n",
       "      <td>Project teams</td>\n",
       "      <td>Division</td>\n",
       "      <td>None</td>\n",
       "    </tr>\n",
       "    <tr>\n",
       "      <th>4</th>\n",
       "      <td>2021-10</td>\n",
       "      <td>323350.0</td>\n",
       "      <td>82b817d4-b2b2-47b2-8204-c4e214200365</td>\n",
       "      <td>People &amp; org dev</td>\n",
       "      <td>82b817d4-b2b2-47b2-8204-c4e214200365</td>\n",
       "      <td>Division</td>\n",
       "      <td>People &amp; org dev</td>\n",
       "      <td>Division</td>\n",
       "      <td>None</td>\n",
       "    </tr>\n",
       "  </tbody>\n",
       "</table>\n",
       "</div>"
      ],
      "text/plain": [
       "    period     value                               groupId         groupName  \\\n",
       "0  2021-10  483228.0  942240ca-9073-4df2-9bff-f9b346bf1432                ic   \n",
       "1  2021-10  374502.0  254cd9b4-37eb-4928-8214-ce87a4ec12bf           manager   \n",
       "2  2021-10  362421.0  942240ca-9073-4df2-9bff-f9b346bf1432                ic   \n",
       "3  2021-10  353449.0  98ea8c92-3ae9-4130-aafa-0315064d8166     Project teams   \n",
       "4  2021-10  323350.0  82b817d4-b2b2-47b2-8204-c4e214200365  People & org dev   \n",
       "\n",
       "                         relatedGroupId relatedClientGroupId  \\\n",
       "0  254cd9b4-37eb-4928-8214-ce87a4ec12bf              Persona   \n",
       "1  942240ca-9073-4df2-9bff-f9b346bf1432              Persona   \n",
       "2  942240ca-9073-4df2-9bff-f9b346bf1432              Persona   \n",
       "3  98ea8c92-3ae9-4130-aafa-0315064d8166             Division   \n",
       "4  82b817d4-b2b2-47b2-8204-c4e214200365             Division   \n",
       "\n",
       "   relatedGroupName  category clientGroupId  \n",
       "0           manager   Persona          None  \n",
       "1                ic   Persona          None  \n",
       "2                ic   Persona          None  \n",
       "3     Project teams  Division          None  \n",
       "4  People & org dev  Division          None  "
      ]
     },
     "metadata": {},
     "output_type": "display_data"
    }
   ],
   "source": [
    "related_df = pd.DataFrame([m.to_dict() for m in related_metrics])\n",
    "display(related_df.head())"
   ]
  }
 ],
 "metadata": {
  "kernelspec": {
   "display_name": "Python 3",
   "language": "python",
   "name": "python3"
  },
  "language_info": {
   "codemirror_mode": {
    "name": "ipython",
    "version": 3
   },
   "file_extension": ".py",
   "mimetype": "text/x-python",
   "name": "python",
   "nbconvert_exporter": "python",
   "pygments_lexer": "ipython3",
   "version": "3.12.0"
  }
 },
 "nbformat": 4,
 "nbformat_minor": 2
}
